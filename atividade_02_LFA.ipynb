{
  "nbformat": 4,
  "nbformat_minor": 0,
  "metadata": {
    "colab": {
      "provenance": []
    },
    "kernelspec": {
      "name": "python3",
      "display_name": "Python 3"
    },
    "language_info": {
      "name": "python"
    }
  },
  "cells": [
    {
      "cell_type": "markdown",
      "source": [
        "# **Regex**"
      ],
      "metadata": {
        "id": "qEhL9B_q7FBe"
      }
    },
    {
      "cell_type": "code",
      "execution_count": 22,
      "metadata": {
        "colab": {
          "base_uri": "https://localhost:8080/",
          "height": 73
        },
        "id": "dtJme5_Z3zET",
        "outputId": "d768599c-a314-43ed-a5dc-ccb9557a700e"
      },
      "outputs": [
        {
          "output_type": "display_data",
          "data": {
            "text/plain": [
              "<IPython.core.display.HTML object>"
            ],
            "text/html": [
              "\n",
              "     <input type=\"file\" id=\"files-4d65a88b-4851-4596-b94b-b976cb8be735\" name=\"files[]\" multiple disabled\n",
              "        style=\"border:none\" />\n",
              "     <output id=\"result-4d65a88b-4851-4596-b94b-b976cb8be735\">\n",
              "      Upload widget is only available when the cell has been executed in the\n",
              "      current browser session. Please rerun this cell to enable.\n",
              "      </output>\n",
              "      <script>// Copyright 2017 Google LLC\n",
              "//\n",
              "// Licensed under the Apache License, Version 2.0 (the \"License\");\n",
              "// you may not use this file except in compliance with the License.\n",
              "// You may obtain a copy of the License at\n",
              "//\n",
              "//      http://www.apache.org/licenses/LICENSE-2.0\n",
              "//\n",
              "// Unless required by applicable law or agreed to in writing, software\n",
              "// distributed under the License is distributed on an \"AS IS\" BASIS,\n",
              "// WITHOUT WARRANTIES OR CONDITIONS OF ANY KIND, either express or implied.\n",
              "// See the License for the specific language governing permissions and\n",
              "// limitations under the License.\n",
              "\n",
              "/**\n",
              " * @fileoverview Helpers for google.colab Python module.\n",
              " */\n",
              "(function(scope) {\n",
              "function span(text, styleAttributes = {}) {\n",
              "  const element = document.createElement('span');\n",
              "  element.textContent = text;\n",
              "  for (const key of Object.keys(styleAttributes)) {\n",
              "    element.style[key] = styleAttributes[key];\n",
              "  }\n",
              "  return element;\n",
              "}\n",
              "\n",
              "// Max number of bytes which will be uploaded at a time.\n",
              "const MAX_PAYLOAD_SIZE = 100 * 1024;\n",
              "\n",
              "function _uploadFiles(inputId, outputId) {\n",
              "  const steps = uploadFilesStep(inputId, outputId);\n",
              "  const outputElement = document.getElementById(outputId);\n",
              "  // Cache steps on the outputElement to make it available for the next call\n",
              "  // to uploadFilesContinue from Python.\n",
              "  outputElement.steps = steps;\n",
              "\n",
              "  return _uploadFilesContinue(outputId);\n",
              "}\n",
              "\n",
              "// This is roughly an async generator (not supported in the browser yet),\n",
              "// where there are multiple asynchronous steps and the Python side is going\n",
              "// to poll for completion of each step.\n",
              "// This uses a Promise to block the python side on completion of each step,\n",
              "// then passes the result of the previous step as the input to the next step.\n",
              "function _uploadFilesContinue(outputId) {\n",
              "  const outputElement = document.getElementById(outputId);\n",
              "  const steps = outputElement.steps;\n",
              "\n",
              "  const next = steps.next(outputElement.lastPromiseValue);\n",
              "  return Promise.resolve(next.value.promise).then((value) => {\n",
              "    // Cache the last promise value to make it available to the next\n",
              "    // step of the generator.\n",
              "    outputElement.lastPromiseValue = value;\n",
              "    return next.value.response;\n",
              "  });\n",
              "}\n",
              "\n",
              "/**\n",
              " * Generator function which is called between each async step of the upload\n",
              " * process.\n",
              " * @param {string} inputId Element ID of the input file picker element.\n",
              " * @param {string} outputId Element ID of the output display.\n",
              " * @return {!Iterable<!Object>} Iterable of next steps.\n",
              " */\n",
              "function* uploadFilesStep(inputId, outputId) {\n",
              "  const inputElement = document.getElementById(inputId);\n",
              "  inputElement.disabled = false;\n",
              "\n",
              "  const outputElement = document.getElementById(outputId);\n",
              "  outputElement.innerHTML = '';\n",
              "\n",
              "  const pickedPromise = new Promise((resolve) => {\n",
              "    inputElement.addEventListener('change', (e) => {\n",
              "      resolve(e.target.files);\n",
              "    });\n",
              "  });\n",
              "\n",
              "  const cancel = document.createElement('button');\n",
              "  inputElement.parentElement.appendChild(cancel);\n",
              "  cancel.textContent = 'Cancel upload';\n",
              "  const cancelPromise = new Promise((resolve) => {\n",
              "    cancel.onclick = () => {\n",
              "      resolve(null);\n",
              "    };\n",
              "  });\n",
              "\n",
              "  // Wait for the user to pick the files.\n",
              "  const files = yield {\n",
              "    promise: Promise.race([pickedPromise, cancelPromise]),\n",
              "    response: {\n",
              "      action: 'starting',\n",
              "    }\n",
              "  };\n",
              "\n",
              "  cancel.remove();\n",
              "\n",
              "  // Disable the input element since further picks are not allowed.\n",
              "  inputElement.disabled = true;\n",
              "\n",
              "  if (!files) {\n",
              "    return {\n",
              "      response: {\n",
              "        action: 'complete',\n",
              "      }\n",
              "    };\n",
              "  }\n",
              "\n",
              "  for (const file of files) {\n",
              "    const li = document.createElement('li');\n",
              "    li.append(span(file.name, {fontWeight: 'bold'}));\n",
              "    li.append(span(\n",
              "        `(${file.type || 'n/a'}) - ${file.size} bytes, ` +\n",
              "        `last modified: ${\n",
              "            file.lastModifiedDate ? file.lastModifiedDate.toLocaleDateString() :\n",
              "                                    'n/a'} - `));\n",
              "    const percent = span('0% done');\n",
              "    li.appendChild(percent);\n",
              "\n",
              "    outputElement.appendChild(li);\n",
              "\n",
              "    const fileDataPromise = new Promise((resolve) => {\n",
              "      const reader = new FileReader();\n",
              "      reader.onload = (e) => {\n",
              "        resolve(e.target.result);\n",
              "      };\n",
              "      reader.readAsArrayBuffer(file);\n",
              "    });\n",
              "    // Wait for the data to be ready.\n",
              "    let fileData = yield {\n",
              "      promise: fileDataPromise,\n",
              "      response: {\n",
              "        action: 'continue',\n",
              "      }\n",
              "    };\n",
              "\n",
              "    // Use a chunked sending to avoid message size limits. See b/62115660.\n",
              "    let position = 0;\n",
              "    do {\n",
              "      const length = Math.min(fileData.byteLength - position, MAX_PAYLOAD_SIZE);\n",
              "      const chunk = new Uint8Array(fileData, position, length);\n",
              "      position += length;\n",
              "\n",
              "      const base64 = btoa(String.fromCharCode.apply(null, chunk));\n",
              "      yield {\n",
              "        response: {\n",
              "          action: 'append',\n",
              "          file: file.name,\n",
              "          data: base64,\n",
              "        },\n",
              "      };\n",
              "\n",
              "      let percentDone = fileData.byteLength === 0 ?\n",
              "          100 :\n",
              "          Math.round((position / fileData.byteLength) * 100);\n",
              "      percent.textContent = `${percentDone}% done`;\n",
              "\n",
              "    } while (position < fileData.byteLength);\n",
              "  }\n",
              "\n",
              "  // All done.\n",
              "  yield {\n",
              "    response: {\n",
              "      action: 'complete',\n",
              "    }\n",
              "  };\n",
              "}\n",
              "\n",
              "scope.google = scope.google || {};\n",
              "scope.google.colab = scope.google.colab || {};\n",
              "scope.google.colab._files = {\n",
              "  _uploadFiles,\n",
              "  _uploadFilesContinue,\n",
              "};\n",
              "})(self);\n",
              "</script> "
            ]
          },
          "metadata": {}
        },
        {
          "output_type": "stream",
          "name": "stdout",
          "text": [
            "Saving LFA_twitch.csv to LFA_twitch (1).csv\n"
          ]
        }
      ],
      "source": [
        "from google.colab import files \n",
        "  \n",
        "uploaded = files.upload()"
      ]
    },
    {
      "cell_type": "code",
      "source": [
        "import pandas as pd \n",
        "import io \n",
        "import re\n",
        "  \n",
        "#tabelaTwitch = pd.read_csv('LFA_twitch.csv')"
      ],
      "metadata": {
        "id": "b8R-1yiJ37R8"
      },
      "execution_count": 25,
      "outputs": []
    },
    {
      "cell_type": "code",
      "source": [
        "#lista de palvrões\n",
        "lista_palavroes = [\n",
        "    \"evil\",\n",
        "    \"fuck\",\n",
        "    \"shit\",\n",
        "    \"asshole\",\n",
        "    \"bitch\",\n",
        "    \"dick\",\n",
        "    \"damn\",\n",
        "    \"bastard\",\n",
        "    \"cunt\",\n",
        "    \"motherfucker\",\n",
        "    \"cock\",\n",
        "    \"piss\",\n",
        "    \"twat\",\n",
        "    \"douchebag\",\n",
        "    \"asshat\",\n",
        "    \"prick\",\n",
        "    \"wanker\",\n",
        "    \"slut\",\n",
        "    \"whore\",\n",
        "    \"dipshit\",\n",
        "    \"dickhead\",\n",
        "    \"jerk\",\n",
        "    \"idiot\",\n",
        "    \"moron\",\n",
        "    \"stupid\",\n",
        "    \"dumbass\",\n",
        "    \"fuckface\",\n",
        "    \"cocksucker\",\n",
        "    \"asswipe\",\n",
        "    \"shithead\",\n",
        "    \"assclown\",\n",
        "    \"douche\",\n",
        "    \"fuckwit\",\n",
        "    \"jackass\",\n",
        "    \"son of a bitch\",\n",
        "    \"bullshit\",\n",
        "    \"wankstain\",\n",
        "    \"fucktard\",\n",
        "    \"pussy\",\n",
        "    \"bugger\",\n",
        "    \"bloody hell\",\n",
        "    \"arsehole\",\n",
        "    \"freaking\",\n",
        "    \"frigging\",\n",
        "    \"screw you\",\n",
        "    \"screw off\",\n",
        "    \"sod off\",\n",
        "    \"suck it\",\n",
        "    \"dickwad\",\n",
        "    \"nutjob\",\n",
        "    \"knobhead\",\n",
        "    \"turd\",\n",
        "    \"knucklehead\",\n",
        "    \"dingleberry\",\n",
        "    \"douchecanoe\",\n",
        "    \"nutcase\",\n",
        "    \"butt munch\",\n",
        "    \"assnugget\",\n",
        "    \"arsewipe\",\n",
        "    \"cockwomble\",\n",
        "    \"wankshaft\",\n",
        "    \"tosser\",\n",
        "    \"gobshite\",\n",
        "    \"piss off\",\n",
        "    \"pisshead\",\n",
        "    \"penis\",\n",
        "    \"bumfluff\",\n",
        "    \"shitehawk\",\n",
        "    \"shit-for-brains\",\n",
        "    \"numbnuts\",\n",
        "    \"dumbbell\",\n",
        "    \"fool\",\n",
        "    \"jerkface\",\n",
        "    \"prickhead\",\n",
        "    \"numpty\",\n",
        "    \"shitbag\",\n",
        "    \"muppet\",\n",
        "    \"assface\",\n",
        "    \"dickweed\",\n",
        "    \"numb-nuts\",\n",
        "    \"twatwaffle\",\n",
        "    \"clusterfuck\",\n",
        "    \"cuntface\",\n",
        "    \"dumbshit\",\n",
        "    \"shitstain\",\n",
        "    \"lunatic\",\n",
        "    \"waste of space\",\n",
        "    \"bogus\",\n",
        "    \"cockbite\",\n",
        "    \"dickbag\",\n",
        "    \"knob\",\n",
        "    \"cheesehead\",\n",
        "    \"plonker\",\n",
        "    \"arse-nugget\",\n",
        "    \"wankerstick\",\n",
        "    \"asshatery\",\n",
        "    \"douchenozzle\",\n",
        "    \"cockwaffle\"]\n",
        "\n",
        "# Carregando a base de dados de comentários a partir de um arquivo CSV e armazenando-a em um dataset chamado \"tabelaTwitch\"\n",
        "tabelaTwitch = pd.read_csv('LFA_twitch.csv')\n",
        "\n",
        "\n",
        "# Criando uma expressão regular para buscar palavrões nos comentários. A expressão regular é formada pela junção dos palavrões separados por \"|\",\n",
        "# onde \"\\b\" é usado para delimitar as palavras inteiras.\n",
        "regex = r\"\\b(\" + \"|\".join(lista_palavroes) + r\")\\b\"\n",
        "\n",
        "# Aplicando a expressão regular a cada comentário da coluna \"comment_text\" do dataset \"tabelaTwitch\".\n",
        "# A função \"re.findall()\" encontra todas as correspondências de palavrões em cada comentário, ignorando as diferenças entre letras maiúsculas e minúsculas.\n",
        "# Os resultados são armazenados na nova coluna \"xingamentos\" do dataset.\n",
        "tabelaTwitch[\"xingamentos\"] = tabelaTwitch[\"comment_text\"].apply(lambda x: re.findall(regex, str(x), re.IGNORECASE))\n",
        "\n",
        "# Filtrando o dataset \"dados\" para obter apenas os comentários que têm xingamentos, ou seja, aqueles em que a lista de xingamentos não está vazia.\n",
        "# O resultado é armazenado no dataset \"comentarios_com_xingamentos\".\n",
        "comentarios_com_xingamentos = tabelaTwitch[tabelaTwitch[\"xingamentos\"].str.len() > 0]\n",
        "\n",
        "# Exibindo os comentários que contêm xingamentos.\n",
        "print(comentarios_com_xingamentos)"
      ],
      "metadata": {
        "id": "JxMO8E4M4E5T"
      },
      "execution_count": null,
      "outputs": []
    },
    {
      "cell_type": "markdown",
      "source": [
        "# **Análises**"
      ],
      "metadata": {
        "id": "vVqzbJ797ZiL"
      }
    },
    {
      "cell_type": "markdown",
      "source": [
        "**1. Frequência de palavrões em comentários**"
      ],
      "metadata": {
        "id": "hfbC04H55ush"
      }
    },
    {
      "cell_type": "code",
      "source": [
        "lista_xingamentos = comentarios_com_xingamentos[\"xingamentos\"].tolist()"
      ],
      "metadata": {
        "id": "h6UzLBZA5a8I"
      },
      "execution_count": 12,
      "outputs": []
    },
    {
      "cell_type": "code",
      "source": [
        "from collections import Counter\n",
        "\n",
        "frequencia_xingamentos = Counter([xingamento for sublist in lista_xingamentos for xingamento in sublist])"
      ],
      "metadata": {
        "id": "Nw36SXy95dPg"
      },
      "execution_count": 13,
      "outputs": []
    },
    {
      "cell_type": "code",
      "source": [
        "palavras_ordenadas = sorted(frequencia_xingamentos.items(), key=lambda x: x[1], reverse=True)\n",
        "\n",
        "for palavra, frequencia in palavras_ordenadas:\n",
        "    print(f\"{palavra}: {frequencia}\")"
      ],
      "metadata": {
        "colab": {
          "base_uri": "https://localhost:8080/"
        },
        "id": "uR995Hx_5oKt",
        "outputId": "71e5cad1-3f58-4a50-d948-38fdae842a10"
      },
      "execution_count": 14,
      "outputs": [
        {
          "output_type": "stream",
          "name": "stdout",
          "text": [
            "fuck: 51\n",
            "cunt: 22\n",
            "Fuck: 20\n",
            "penis: 17\n",
            "stupid: 13\n",
            "shit: 11\n",
            "asshole: 4\n",
            "bitch: 4\n",
            "moron: 3\n",
            "idiot: 3\n",
            "Evil: 3\n",
            "slut: 2\n",
            "BITCH: 2\n",
            "DICK: 2\n",
            "wanker: 2\n",
            "pussy: 2\n",
            "damn: 2\n",
            "Moron: 2\n",
            "bastard: 2\n",
            "cock: 2\n",
            "evil: 1\n",
            "muppet: 1\n",
            "Motherfucker: 1\n",
            "fucktard: 1\n",
            "jackass: 1\n",
            "EVIL: 1\n",
            "SHIT: 1\n",
            "fuckwit: 1\n",
            "freaking: 1\n",
            "motherfucker: 1\n",
            "whore: 1\n",
            "jerk: 1\n",
            "FUCK: 1\n",
            "bullshit: 1\n",
            "plonker: 1\n",
            "Bastard: 1\n",
            "dick: 1\n",
            "dipshit: 1\n",
            "Cunt: 1\n",
            "fool: 1\n",
            "Dick: 1\n"
          ]
        }
      ]
    },
    {
      "cell_type": "markdown",
      "source": [
        "2. Esse é o total de comentários toxicos definidos pela coluna de classificação 'toxic'"
      ],
      "metadata": {
        "id": "rmYb7cj48vUd"
      }
    },
    {
      "cell_type": "code",
      "source": [
        "# Carregando o arquivo CSV em um DataFrame\n",
        "df = pd.read_csv('LFA_twitch.csv')\n",
        "# Especificando o valor desejado\n",
        "valor_especifico = 1\n",
        "# Fazendo o count do valor específico na coluna desejada\n",
        "RotulosVerdadeiros = df['toxic'].value_counts()[valor_especifico]\n",
        "# Exibindo o resultado\n",
        "print(f'Total de comentários com xingamento: {RotulosVerdadeiros}')"
      ],
      "metadata": {
        "colab": {
          "base_uri": "https://localhost:8080/"
        },
        "id": "OAODfATa8Wcz",
        "outputId": "780688c4-a343-4437-afcf-d01c9331da2c"
      },
      "execution_count": 15,
      "outputs": [
        {
          "output_type": "stream",
          "name": "stdout",
          "text": [
            "Total de comentários com xingamento: 84\n"
          ]
        }
      ]
    },
    {
      "cell_type": "markdown",
      "source": [
        "3. Total de comentários não tóxicos"
      ],
      "metadata": {
        "id": "_gSWiL9BfH_z"
      }
    },
    {
      "cell_type": "code",
      "source": [
        "# Carregando o arquivo CSV em um DataFrame\n",
        "df = pd.read_csv('LFA_twitch.csv')\n",
        "# Especificando o valor desejado\n",
        "valor_especifico = 0\n",
        "# Fazendo o count do valor específico na coluna desejada\n",
        "RotulosFalsos = df['toxic'].value_counts()[valor_especifico]\n",
        "# Exibindo o resultado\n",
        "print(f'Total de comentários não tóxicos: {RotulosFalsos}')"
      ],
      "metadata": {
        "colab": {
          "base_uri": "https://localhost:8080/"
        },
        "id": "cmXDs6nIfLV2",
        "outputId": "d750b36f-1d40-496b-d213-729868133d3c"
      },
      "execution_count": 16,
      "outputs": [
        {
          "output_type": "stream",
          "name": "stdout",
          "text": [
            "Total de comentários não tóxicos: 916\n"
          ]
        }
      ]
    },
    {
      "cell_type": "markdown",
      "source": [
        "**4. Total de comentários toxicos identificados pelo regex com a lista de palavrões.**"
      ],
      "metadata": {
        "id": "2842K6z29iyI"
      }
    },
    {
      "cell_type": "code",
      "source": [
        "# Count do total de comentarios_com_xingamentos\n",
        "total_comentarios_com_xingamentos = len(comentarios_com_xingamentos)\n",
        "# Exibindo o resultado\n",
        "print(f'Total de comentários encontrados pelo regex: {total_comentarios_com_xingamentos}')"
      ],
      "metadata": {
        "colab": {
          "base_uri": "https://localhost:8080/"
        },
        "id": "6_-n6yGt84ZR",
        "outputId": "786138aa-f2d1-4c3a-c024-425f482a0d60"
      },
      "execution_count": 29,
      "outputs": [
        {
          "output_type": "stream",
          "name": "stdout",
          "text": [
            "Total de comentários encontrados pelo regex: 67\n"
          ]
        }
      ]
    },
    {
      "cell_type": "markdown",
      "source": [
        "5. Filtrando somente os que deram **VERDADEIRO POSITIVO**"
      ],
      "metadata": {
        "id": "w4VpbZpD-FzL"
      }
    },
    {
      "cell_type": "code",
      "source": [
        "# Filtrando apenas os comentários com xingamentos e toxicidade igual a 1\n",
        "comentarios_filtrados = comentarios_com_xingamentos[comentarios_com_xingamentos['toxic'] == 1]\n",
        "# Exibindo os comentários filtrados\n",
        "print(comentarios_filtrados)\n"
      ],
      "metadata": {
        "id": "5201Mw_w-C4r"
      },
      "execution_count": null,
      "outputs": []
    },
    {
      "cell_type": "markdown",
      "source": [
        "6. Total de cometários com verdadeiro positivo encontrados"
      ],
      "metadata": {
        "id": "2JyEc_G4-_mh"
      }
    },
    {
      "cell_type": "code",
      "source": [
        "# Filtrando apenas os comentários com xingamentos e toxicidade igual a 1\n",
        "comentarios_filtrados = comentarios_com_xingamentos[comentarios_com_xingamentos['toxic'] == 1]\n",
        "# Obtendo a contagem de comentários filtrados\n",
        "VP = len(comentarios_filtrados)\n",
        "# Exibindo a contagem de comentários filtrados\n",
        "print(f\"Verdadeiro Positivo: {VP}\")"
      ],
      "metadata": {
        "colab": {
          "base_uri": "https://localhost:8080/"
        },
        "id": "uiCaMrm9-9l8",
        "outputId": "a79791a8-84cc-4d44-fe7a-ac33412c5651"
      },
      "execution_count": 31,
      "outputs": [
        {
          "output_type": "stream",
          "name": "stdout",
          "text": [
            "Verdadeiro Positivo: 50\n"
          ]
        }
      ]
    },
    {
      "cell_type": "markdown",
      "source": [
        "**Falso positivo**"
      ],
      "metadata": {
        "id": "aANnIM-H_JR6"
      }
    },
    {
      "cell_type": "code",
      "source": [
        "# Filtrando apenas os comentários com xingamentos e toxicidade igual a 1\n",
        "comentarios_filtrados = comentarios_com_xingamentos[comentarios_com_xingamentos['toxic'] == 0]\n",
        "# Exibindo os comentários filtrados\n",
        "print(comentarios_filtrados)"
      ],
      "metadata": {
        "id": "6_mWgUJV_E_y"
      },
      "execution_count": null,
      "outputs": []
    },
    {
      "cell_type": "code",
      "source": [
        "# Filtrando apenas os comentários com xingamentos e toxicidade igual a 1\n",
        "comentarios_filtrados = comentarios_com_xingamentos[comentarios_com_xingamentos['toxic'] == 0]\n",
        "# Obtendo a contagem de comentários filtrados\n",
        "FP = len(comentarios_filtrados)\n",
        "# Exibindo a contagem de comentários filtrados\n",
        "print(f\"Falso Positivo: {FP}\")"
      ],
      "metadata": {
        "colab": {
          "base_uri": "https://localhost:8080/"
        },
        "id": "7Q5veXTf_N_t",
        "outputId": "5086a2bc-f5de-4ee2-d3aa-dfdabe092e5d"
      },
      "execution_count": 35,
      "outputs": [
        {
          "output_type": "stream",
          "name": "stdout",
          "text": [
            "Falso Positivo: 17\n"
          ]
        }
      ]
    },
    {
      "cell_type": "markdown",
      "source": [
        "Percentual de verdadeiro positivo alcançados do total"
      ],
      "metadata": {
        "id": "DCH7ispW_R2L"
      }
    },
    {
      "cell_type": "code",
      "source": [
        "# Contagem total de comentários tóxicos\n",
        "total_comentarios_toxicos = tabelaTwitch['toxic'].sum()\n",
        "# Cálculo da porcentagem\n",
        "porcentagem_alcancada = (VP / total_comentarios_toxicos) * 100\n",
        "# Exibindo a porcentagem alcançada\n",
        "print(f\"A porcentagem alcançada do total de comentários tóxicos é de: {porcentagem_alcancada:.2f}%\")"
      ],
      "metadata": {
        "colab": {
          "base_uri": "https://localhost:8080/"
        },
        "id": "G57WEdKO-jcR",
        "outputId": "589e7270-6e5e-4d29-fff8-622c727e3427"
      },
      "execution_count": 37,
      "outputs": [
        {
          "output_type": "stream",
          "name": "stdout",
          "text": [
            "A porcentagem alcançada do total de comentários tóxicos é de: 59.52%\n"
          ]
        }
      ]
    },
    {
      "cell_type": "markdown",
      "source": [
        "**Matrix de confusão**\n",
        "\n",
        "\n",
        "Explicação dos componentes da matrix de confusão\n",
        "\n",
        "- Verdadeiro positivo (TP): representa os casos em \n",
        "que o modelo previu corretamente uma determinada classe como positiva.\n",
        "\n",
        "- Verdadeiro negativo (TN): representa os casos em que o modelo previu corretamente uma determinada classe como negativa.\n",
        "\n",
        "- Falso positivo (FP): representa os casos em que o modelo erroneamente previu uma determinada classe como positiva, quando na verdade era negativa.\n",
        "\n",
        "- Falso negativo (FN): representa os casos em que o modelo erroneamente previu uma determinada classe como negativa, quando na verdade era positiva.\n",
        "\n"
      ],
      "metadata": {
        "id": "avZEa_95_mUB"
      }
    },
    {
      "cell_type": "code",
      "source": [
        "import numpy as np\n",
        "import matplotlib.pyplot as plt\n",
        "\n",
        "def criar_matriz_confusao(T, N, TP, FP):\n",
        "    FN = T - VP #Falso negativo\n",
        "    VN = N - FP #Verdadeiro negativo\n",
        "    \n",
        "    matriz_confusao = np.array([[TP, FP], [FN, VN]])\n",
        "    \n",
        "    return matriz_confusao\n",
        "# Dados da matriz de confusão\n",
        "T = 84  # Total de comentários tóxicos\n",
        "N = 916  # Total de comentários não tóxicos\n",
        "VP = 50  # Verdadeiros positivos\n",
        "FP = 17  # Falsos positivos\n",
        "# Criar matriz de confusão\n",
        "matriz = criar_matriz_confusao(T, N, VP, FP)\n",
        "# Criar rótulos para os eixos x e y\n",
        "classes = ['Positivo', 'Negativo']\n",
        "rotulos = ['Positivo', 'Negativo']\n",
        "# Plotar matriz de confusão\n",
        "fig, ax = plt.subplots()\n",
        "im = ax.imshow(matriz, cmap='Greens')\n",
        "# Adicionar texto nas células da matriz\n",
        "for i in range(len(classes)):\n",
        "    for j in range(len(rotulos)):\n",
        "        text = ax.text(j, i, matriz[i, j], ha='center', va='center', color='black')\n",
        "# Configurar eixos\n",
        "ax.set_xticks(np.arange(len(rotulos)))\n",
        "ax.set_yticks(np.arange(len(classes)))\n",
        "ax.set_xticklabels(rotulos)\n",
        "ax.set_yticklabels(classes)\n",
        "ax.set_xlabel('Valor Real')\n",
        "ax.set_ylabel('Previsão')\n",
        "\n",
        "# Adicionar barra de cores\n",
        "cbar = ax.figure.colorbar(im, ax=ax)\n",
        "# Definir título do gráfico\n",
        "ax.set_title('Matriz de Confusão')\n",
        "# Exibir gráfico\n",
        "plt.show()\n"
      ],
      "metadata": {
        "colab": {
          "base_uri": "https://localhost:8080/",
          "height": 472
        },
        "id": "RXw0joWyhl87",
        "outputId": "aa6e5aab-532c-4b34-a776-dfca8c3433b3"
      },
      "execution_count": 38,
      "outputs": [
        {
          "output_type": "display_data",
          "data": {
            "text/plain": [
              "<Figure size 640x480 with 2 Axes>"
            ],
            "image/png": "[encoded data removed]"
          },
          "metadata": {}
        }
      ]
    },
    {
      "cell_type": "markdown",
      "source": [
        "**Acuracia**\n",
        "\n",
        "A acurácia é uma medida de desempenho de um modelo de classificação que geralmente é expressa como uma porcentagem. Ela indica a proporção de previsões corretas em relação ao total de exemplos."
      ],
      "metadata": {
        "id": "AP1vrBB0luxp"
      }
    },
    {
      "cell_type": "code",
      "source": [
        "VP = 50  # Verdadeiros positivos\n",
        "VN = 899 #Verdadeiro Negativo\n",
        "FP = 17  # Falsos positivo\n",
        "FN = 36 #Falso negativo\n",
        "\n",
        "Acuracia = ((VP + VN) / (VP + VN + FP + FN)) * 100\n",
        "print(f\"Acurácia: {Acuracia:.2f}%\")"
      ],
      "metadata": {
        "colab": {
          "base_uri": "https://localhost:8080/"
        },
        "id": "SX8VxLeQlwgb",
        "outputId": "dd691b78-84ff-4675-decf-8c619a73710f"
      },
      "execution_count": 39,
      "outputs": [
        {
          "output_type": "stream",
          "name": "stdout",
          "text": [
            "Acurácia: 94.71%\n"
          ]
        }
      ]
    },
    {
      "cell_type": "markdown",
      "source": [
        "**Taxa de correspondência (Match Rate)**\n",
        "\n",
        "A taxa de correspondência indica a proporção de strings que são correspondidas pela expressão regular em relação ao total de strings analisadas."
      ],
      "metadata": {
        "id": "nwPlOUSmtpM0"
      }
    },
    {
      "cell_type": "code",
      "source": [
        "# Calculando a taxa de correspondência (Match Rate)\n",
        "taxa_correspondencia = len(comentarios_com_xingamentos) / len(tabelaTwitch) * 100\n",
        "\n",
        "# Exibindo a taxa de correspondência\n",
        "print(\"Taxa de correspondência: {:.2f}%\".format(taxa_correspondencia))\n"
      ],
      "metadata": {
        "colab": {
          "base_uri": "https://localhost:8080/"
        },
        "id": "UuNtoS5ZtonQ",
        "outputId": "3c3dfb32-fe5e-4852-a2ef-1d36b3428557"
      },
      "execution_count": 40,
      "outputs": [
        {
          "output_type": "stream",
          "name": "stdout",
          "text": [
            "Taxa de correspondência: 6.70%\n"
          ]
        }
      ]
    },
    {
      "cell_type": "markdown",
      "source": [
        "**Precision = VP / (VP + FP)**\n",
        "\n",
        "\n",
        "A precisão (Precision) é uma medida de desempenho de um modelo de classificação que indica a proporção de instâncias classificadas como positivas corretamente em relação ao total de instâncias classificadas como positivas.\n",
        "\n",
        "A fórmula da precisão é dada por:\n",
        "\n",
        "Precision = VP / (VP + FP)\n",
        "\n",
        "Onde:\n",
        "\n",
        "- VP (True Positives) é o número de verdadeiros positivos, ou seja, o número de instâncias corretamente classificadas como positivas.\n",
        "- FP (False Positives) é o número de falsos positivos, ou seja, o número de instâncias incorretamente classificadas como positivas.\n",
        "A precisão é calculada dividindo o número de verdadeiros positivos pelo total de instâncias classificadas como positivas (soma dos verdadeiros positivos e falsos positivos).\n",
        "\n",
        "A precisão é uma medida importante quando o foco está em minimizar os falsos positivos, ou seja, quando é crucial evitar classificar erroneamente instâncias negativas como positivas. Ela fornece uma indicação de quão precisa é a classificação do modelo em relação às instâncias positivas. No entanto, a precisão por si só pode não fornecer uma imagem completa do desempenho do modelo, especialmente se o conjunto de dados estiver desequilibrado. Nesses casos, é necessário considerar outras medidas de desempenho, como a taxa de verdadeiros positivos (recall) e a medida F1.\n",
        "\n"
      ],
      "metadata": {
        "id": "yGxphQKizP-W"
      }
    },
    {
      "cell_type": "code",
      "source": [
        "Precision = (VP / (VP + FP)) * 100\n",
        "\n",
        "print (f'Precision: {Precision:.2f}%')"
      ],
      "metadata": {
        "colab": {
          "base_uri": "https://localhost:8080/"
        },
        "id": "fWQ9uyIdzSBL",
        "outputId": "d6264438-02a5-4d75-ff3c-c4717aea3102"
      },
      "execution_count": 41,
      "outputs": [
        {
          "output_type": "stream",
          "name": "stdout",
          "text": [
            "Precision: 74.63%\n"
          ]
        }
      ]
    }
  ]
}